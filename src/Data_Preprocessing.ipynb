{
 "cells": [
  {
   "cell_type": "code",
   "execution_count": 1,
   "id": "0d6c5617",
   "metadata": {},
   "outputs": [
    {
     "name": "stdout",
     "output_type": "stream",
     "text": [
      "the cell runing without Error\n"
     ]
    }
   ],
   "source": [
    "import os\n",
    "import pandas as pd\n",
    "#we give the path of our dataset which contains the images of each person\n",
    "def transformt_images_to_csv(path_images,path_csv):\n",
    "    train_data_dir=path_images\n",
    "    #we create the list Y and the list Z\n",
    "    Y = []\n",
    "    Z = []\n",
    "    #we used variable to see the number of samples of each class\n",
    "    i=0\n",
    "    #we will loop in all the folders that we in the path train_data_dir\n",
    "    folders=os.listdir(train_data_dir)\n",
    "    for class_dir in folders:\n",
    "        i=0\n",
    "        print(class_dir)    \n",
    "        for image_name in os.listdir(os.path.join(train_data_dir, class_dir)):\n",
    "            path_image=os.path.join(train_data_dir,class_dir, image_name)\n",
    "            #we add each class that we find in our dataset to the list Y           \n",
    "            Y.append(class_dir)\n",
    "            #we add each path of each image that we find in our dataset to the list Z         \n",
    "            Z.append(path_image)\n",
    "            i+=1\n",
    "        #we display the number of samples of each subfolder\n",
    "        print(i)\n",
    "\n",
    "    #\n",
    "    label = pd.DataFrame(Y,columns=['classe']) \n",
    "    path = pd.DataFrame(Z,columns=['path']) \n",
    "    result2 = pd.merge(path,label,left_index=True, right_index=True)\n",
    "    #on transforme notre data en  format .csv\n",
    "    result2.to_csv (path_csv,index = None, header=True)\n",
    "print('the cell runing without Error')"
   ]
  },
  {
   "cell_type": "code",
   "execution_count": 2,
   "id": "5c7cc471",
   "metadata": {},
   "outputs": [
    {
     "name": "stdout",
     "output_type": "stream",
     "text": [
      "ikram\n",
      "1500\n",
      "kabir\n",
      "1500\n",
      "kannich\n",
      "1500\n",
      "khadija\n",
      "1500\n",
      "khalid\n",
      "1500\n",
      "saad\n",
      "1500\n",
      "soufiane\n",
      "1500\n"
     ]
    }
   ],
   "source": [
    "path_train_images=r'C:\\Users\\21260\\Projet\\Face_Recognition\\src\\resources\\Data\\Mydatabase\\Train'\n",
    "path_train_csv=r'C:\\Users\\21260\\Projet\\Face_Recognition\\src\\resources\\Data\\datacsv\\Train\\Train.csv'\n",
    "#C:\\Users\\21260\\Projet\\Face_Recognition\\src\\resources\\Data\\datacsv\\Train\n",
    "transformt_images_to_csv(path_images=path_train_images,path_csv=path_train_csv)"
   ]
  },
  {
   "cell_type": "code",
   "execution_count": 3,
   "id": "eadc3a1e",
   "metadata": {
    "scrolled": true
   },
   "outputs": [
    {
     "name": "stdout",
     "output_type": "stream",
     "text": [
      "ikram\n",
      "300\n",
      "kabir\n",
      "300\n",
      "kannich\n",
      "300\n",
      "khadija\n",
      "300\n",
      "khalid\n",
      "300\n",
      "saad\n",
      "300\n",
      "soufiane\n",
      "300\n"
     ]
    }
   ],
   "source": [
    "path_Validation_images=r'C:\\Users\\21260\\Projet\\Face_Recognition\\src\\resources\\Data\\Mydatabase\\Validation'\n",
    "path_Validation_csv=r'C:\\Users\\21260\\Projet\\Face_Recognition\\src\\resources\\Data\\datacsv\\Validation\\Validation.csv'\n",
    "#C:\\Users\\21260\\Projet\\Face_Recognition\\src\\resources\\Data\\datacsv\\Train\n",
    "transformt_images_to_csv(path_images=path_Validation_images,path_csv=path_Validation_csv)"
   ]
  },
  {
   "cell_type": "code",
   "execution_count": null,
   "id": "c6093c3c",
   "metadata": {},
   "outputs": [],
   "source": []
  }
 ],
 "metadata": {
  "kernelspec": {
   "display_name": "Python 3 (ipykernel)",
   "language": "python",
   "name": "python3"
  },
  "language_info": {
   "codemirror_mode": {
    "name": "ipython",
    "version": 3
   },
   "file_extension": ".py",
   "mimetype": "text/x-python",
   "name": "python",
   "nbconvert_exporter": "python",
   "pygments_lexer": "ipython3",
   "version": "3.9.15"
  }
 },
 "nbformat": 4,
 "nbformat_minor": 5
}
